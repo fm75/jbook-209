{
 "cells": [
  {
   "cell_type": "markdown",
   "metadata": {},
   "source": [
    "# jbook-209\n",
    "colab defaults on in jbook\n",
    "\n",
    "[book](https://fm75.github.io/jbook-209/README.html)"
   ]
  },
  {
   "cell_type": "markdown",
   "metadata": {},
   "source": [
    "[![Binder](https://mybinder.org/badge_logo.svg)](https://mybinder.org/v2/gh/fm75/jbook-209/master?urlpath=lab) master\n",
    "\n",
    "[![Binder](https://mybinder.org/badge_logo.svg)](https://mybinder.org/v2/gh/fm75/jbook-209/colab_empty?urlpath=lab) colab_empty\n",
    "\n",
    "[![Binder](https://mybinder.org/badge_logo.svg)](https://mybinder.org/v2/gh/fm75/jbook-209/colab_space?urlpath=lab) colab_space\n",
    "\n",
    "## master branch - no colab_url\n",
    "`config.yml` does not specify colab_url.\n",
    "\n",
    "## colab_empty branch - colab_url no value\n",
    "`config.yml` colab_url :\n",
    "\n",
    "## colab_space branch - colab_url ''\n",
    "`config.yml` colab_url : ''"
   ]
  },
  {
   "cell_type": "code",
   "execution_count": 1,
   "metadata": {},
   "outputs": [
    {
     "name": "stdout",
     "output_type": "stream",
     "text": [
      "[jupytext] Reading README.ipynb in format ipynb\r\n",
      "Traceback (most recent call last):\r\n",
      "  File \"/srv/conda/envs/notebook/bin/jupytext\", line 8, in <module>\r\n",
      "    sys.exit(jupytext())\r\n",
      "  File \"/srv/conda/envs/notebook/lib/python3.7/site-packages/jupytext/cli.py\", line 402, in jupytext\r\n",
      "    exit_code += jupytext_single_file(nb_file, args, log)\r\n",
      "  File \"/srv/conda/envs/notebook/lib/python3.7/site-packages/jupytext/cli.py\", line 458, in jupytext_single_file\r\n",
      "    notebook = read(nb_file, fmt=fmt)\r\n",
      "  File \"/srv/conda/envs/notebook/lib/python3.7/site-packages/jupytext/jupytext.py\", line 398, in read\r\n",
      "    with io.open(fp, encoding=\"utf-8\") as stream:\r\n",
      "FileNotFoundError: [Errno 2] No such file or directory: 'README.ipynb'\r\n"
     ]
    }
   ],
   "source": [
    "!jupytext README.ipynb  --to myst"
   ]
  }
 ],
 "metadata": {
  "jupytext": {
   "text_representation": {
    "extension": ".md",
    "format_name": "myst",
    "format_version": 0.12,
    "jupytext_version": "1.6.0"
   }
  },
  "kernelspec": {
   "display_name": "Python 3",
   "language": "python",
   "name": "python3"
  },
  "language_info": {
   "codemirror_mode": {
    "name": "ipython",
    "version": 3
   },
   "file_extension": ".py",
   "mimetype": "text/x-python",
   "name": "python",
   "nbconvert_exporter": "python",
   "pygments_lexer": "ipython3",
   "version": "3.7.8"
  },
  "source_map": [
   12,
   19,
   36
  ]
 },
 "nbformat": 4,
 "nbformat_minor": 4
}